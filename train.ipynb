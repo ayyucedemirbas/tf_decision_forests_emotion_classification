{
  "nbformat": 4,
  "nbformat_minor": 0,
  "metadata": {
    "colab": {
      "provenance": []
    },
    "kernelspec": {
      "name": "python3",
      "display_name": "Python 3"
    },
    "language_info": {
      "name": "python"
    }
  },
  "cells": [
    {
      "cell_type": "code",
      "execution_count": 2,
      "metadata": {
        "id": "m05atN9gjOIL"
      },
      "outputs": [],
      "source": [
        "import pandas as pd\n",
        "from sklearn.model_selection import train_test_split\n",
        "from sklearn.pipeline import make_pipeline \n",
        "from sklearn.preprocessing import StandardScaler \n",
        "import numpy as np\n",
        "\n",
        "from sklearn.linear_model import LogisticRegression, RidgeClassifier\n",
        "from sklearn.ensemble import RandomForestClassifier, GradientBoostingClassifier\n",
        "from sklearn.metrics import accuracy_score # Accuracy metrics \n",
        "import pickle"
      ]
    },
    {
      "cell_type": "code",
      "source": [
        "df = pd.read_csv('/content/drive/MyDrive/emotion_ds/out.csv')"
      ],
      "metadata": {
        "id": "4pXXlMDUobnL"
      },
      "execution_count": 3,
      "outputs": []
    },
    {
      "cell_type": "code",
      "source": [
        "df.isnull().values.any()"
      ],
      "metadata": {
        "colab": {
          "base_uri": "https://localhost:8080/"
        },
        "id": "IKmw_6Zro_lP",
        "outputId": "aeb4ca07-64c3-4b34-aac8-345db8968ff4"
      },
      "execution_count": 4,
      "outputs": [
        {
          "output_type": "execute_result",
          "data": {
            "text/plain": [
              "False"
            ]
          },
          "metadata": {},
          "execution_count": 4
        }
      ]
    },
    {
      "cell_type": "code",
      "source": [
        "df.head()"
      ],
      "metadata": {
        "colab": {
          "base_uri": "https://localhost:8080/",
          "height": 300
        },
        "id": "R9VE3rU_pHb2",
        "outputId": "b67925da-4e5b-4641-bcd7-789621db4ee0"
      },
      "execution_count": 5,
      "outputs": [
        {
          "output_type": "execute_result",
          "data": {
            "text/plain": [
              "   class        x1        y1        z1        v1        x2        y2  \\\n",
              "0  Happy  0.694620  0.501455 -3.254367  0.999469  0.744245  0.396398   \n",
              "1  Happy  0.694588  0.504175 -2.534289  0.999432  0.743602  0.397457   \n",
              "2  Happy  0.693829  0.505565 -2.322195  0.999407  0.741747  0.397610   \n",
              "3  Happy  0.693892  0.505048 -2.359528  0.999396  0.741726  0.395579   \n",
              "4  Happy  0.693893  0.503199 -2.337915  0.999399  0.741634  0.393342   \n",
              "\n",
              "         z2        v2        x3  ...      z499  v499      x500      y500  \\\n",
              "0 -3.179939  0.998429  0.775747  ... -0.036378   0.0  0.829803  0.345981   \n",
              "1 -2.490653  0.998371  0.774800  ... -0.040013   0.0  0.828951  0.346540   \n",
              "2 -2.291190  0.998310  0.772492  ... -0.040898   0.0  0.828537  0.348232   \n",
              "3 -2.318423  0.998286  0.772314  ... -0.040329   0.0  0.827169  0.349005   \n",
              "4 -2.288379  0.998310  0.771971  ... -0.039535   0.0  0.825541  0.348934   \n",
              "\n",
              "       z500  v500      x501      y501      z501  v501  \n",
              "0  0.006385   0.0  0.837651  0.335166  0.007548   0.0  \n",
              "1  0.000428   0.0  0.836443  0.336774  0.001195   0.0  \n",
              "2 -0.000200   0.0  0.835846  0.338181  0.000520   0.0  \n",
              "3  0.000364   0.0  0.834496  0.339008  0.001077   0.0  \n",
              "4  0.001577   0.0  0.832743  0.339025  0.002383   0.0  \n",
              "\n",
              "[5 rows x 2005 columns]"
            ],
            "text/html": [
              "\n",
              "  <div id=\"df-fdf96e98-eddf-4753-bcf5-41c9322c3699\">\n",
              "    <div class=\"colab-df-container\">\n",
              "      <div>\n",
              "<style scoped>\n",
              "    .dataframe tbody tr th:only-of-type {\n",
              "        vertical-align: middle;\n",
              "    }\n",
              "\n",
              "    .dataframe tbody tr th {\n",
              "        vertical-align: top;\n",
              "    }\n",
              "\n",
              "    .dataframe thead th {\n",
              "        text-align: right;\n",
              "    }\n",
              "</style>\n",
              "<table border=\"1\" class=\"dataframe\">\n",
              "  <thead>\n",
              "    <tr style=\"text-align: right;\">\n",
              "      <th></th>\n",
              "      <th>class</th>\n",
              "      <th>x1</th>\n",
              "      <th>y1</th>\n",
              "      <th>z1</th>\n",
              "      <th>v1</th>\n",
              "      <th>x2</th>\n",
              "      <th>y2</th>\n",
              "      <th>z2</th>\n",
              "      <th>v2</th>\n",
              "      <th>x3</th>\n",
              "      <th>...</th>\n",
              "      <th>z499</th>\n",
              "      <th>v499</th>\n",
              "      <th>x500</th>\n",
              "      <th>y500</th>\n",
              "      <th>z500</th>\n",
              "      <th>v500</th>\n",
              "      <th>x501</th>\n",
              "      <th>y501</th>\n",
              "      <th>z501</th>\n",
              "      <th>v501</th>\n",
              "    </tr>\n",
              "  </thead>\n",
              "  <tbody>\n",
              "    <tr>\n",
              "      <th>0</th>\n",
              "      <td>Happy</td>\n",
              "      <td>0.694620</td>\n",
              "      <td>0.501455</td>\n",
              "      <td>-3.254367</td>\n",
              "      <td>0.999469</td>\n",
              "      <td>0.744245</td>\n",
              "      <td>0.396398</td>\n",
              "      <td>-3.179939</td>\n",
              "      <td>0.998429</td>\n",
              "      <td>0.775747</td>\n",
              "      <td>...</td>\n",
              "      <td>-0.036378</td>\n",
              "      <td>0.0</td>\n",
              "      <td>0.829803</td>\n",
              "      <td>0.345981</td>\n",
              "      <td>0.006385</td>\n",
              "      <td>0.0</td>\n",
              "      <td>0.837651</td>\n",
              "      <td>0.335166</td>\n",
              "      <td>0.007548</td>\n",
              "      <td>0.0</td>\n",
              "    </tr>\n",
              "    <tr>\n",
              "      <th>1</th>\n",
              "      <td>Happy</td>\n",
              "      <td>0.694588</td>\n",
              "      <td>0.504175</td>\n",
              "      <td>-2.534289</td>\n",
              "      <td>0.999432</td>\n",
              "      <td>0.743602</td>\n",
              "      <td>0.397457</td>\n",
              "      <td>-2.490653</td>\n",
              "      <td>0.998371</td>\n",
              "      <td>0.774800</td>\n",
              "      <td>...</td>\n",
              "      <td>-0.040013</td>\n",
              "      <td>0.0</td>\n",
              "      <td>0.828951</td>\n",
              "      <td>0.346540</td>\n",
              "      <td>0.000428</td>\n",
              "      <td>0.0</td>\n",
              "      <td>0.836443</td>\n",
              "      <td>0.336774</td>\n",
              "      <td>0.001195</td>\n",
              "      <td>0.0</td>\n",
              "    </tr>\n",
              "    <tr>\n",
              "      <th>2</th>\n",
              "      <td>Happy</td>\n",
              "      <td>0.693829</td>\n",
              "      <td>0.505565</td>\n",
              "      <td>-2.322195</td>\n",
              "      <td>0.999407</td>\n",
              "      <td>0.741747</td>\n",
              "      <td>0.397610</td>\n",
              "      <td>-2.291190</td>\n",
              "      <td>0.998310</td>\n",
              "      <td>0.772492</td>\n",
              "      <td>...</td>\n",
              "      <td>-0.040898</td>\n",
              "      <td>0.0</td>\n",
              "      <td>0.828537</td>\n",
              "      <td>0.348232</td>\n",
              "      <td>-0.000200</td>\n",
              "      <td>0.0</td>\n",
              "      <td>0.835846</td>\n",
              "      <td>0.338181</td>\n",
              "      <td>0.000520</td>\n",
              "      <td>0.0</td>\n",
              "    </tr>\n",
              "    <tr>\n",
              "      <th>3</th>\n",
              "      <td>Happy</td>\n",
              "      <td>0.693892</td>\n",
              "      <td>0.505048</td>\n",
              "      <td>-2.359528</td>\n",
              "      <td>0.999396</td>\n",
              "      <td>0.741726</td>\n",
              "      <td>0.395579</td>\n",
              "      <td>-2.318423</td>\n",
              "      <td>0.998286</td>\n",
              "      <td>0.772314</td>\n",
              "      <td>...</td>\n",
              "      <td>-0.040329</td>\n",
              "      <td>0.0</td>\n",
              "      <td>0.827169</td>\n",
              "      <td>0.349005</td>\n",
              "      <td>0.000364</td>\n",
              "      <td>0.0</td>\n",
              "      <td>0.834496</td>\n",
              "      <td>0.339008</td>\n",
              "      <td>0.001077</td>\n",
              "      <td>0.0</td>\n",
              "    </tr>\n",
              "    <tr>\n",
              "      <th>4</th>\n",
              "      <td>Happy</td>\n",
              "      <td>0.693893</td>\n",
              "      <td>0.503199</td>\n",
              "      <td>-2.337915</td>\n",
              "      <td>0.999399</td>\n",
              "      <td>0.741634</td>\n",
              "      <td>0.393342</td>\n",
              "      <td>-2.288379</td>\n",
              "      <td>0.998310</td>\n",
              "      <td>0.771971</td>\n",
              "      <td>...</td>\n",
              "      <td>-0.039535</td>\n",
              "      <td>0.0</td>\n",
              "      <td>0.825541</td>\n",
              "      <td>0.348934</td>\n",
              "      <td>0.001577</td>\n",
              "      <td>0.0</td>\n",
              "      <td>0.832743</td>\n",
              "      <td>0.339025</td>\n",
              "      <td>0.002383</td>\n",
              "      <td>0.0</td>\n",
              "    </tr>\n",
              "  </tbody>\n",
              "</table>\n",
              "<p>5 rows × 2005 columns</p>\n",
              "</div>\n",
              "      <button class=\"colab-df-convert\" onclick=\"convertToInteractive('df-fdf96e98-eddf-4753-bcf5-41c9322c3699')\"\n",
              "              title=\"Convert this dataframe to an interactive table.\"\n",
              "              style=\"display:none;\">\n",
              "        \n",
              "  <svg xmlns=\"http://www.w3.org/2000/svg\" height=\"24px\"viewBox=\"0 0 24 24\"\n",
              "       width=\"24px\">\n",
              "    <path d=\"M0 0h24v24H0V0z\" fill=\"none\"/>\n",
              "    <path d=\"M18.56 5.44l.94 2.06.94-2.06 2.06-.94-2.06-.94-.94-2.06-.94 2.06-2.06.94zm-11 1L8.5 8.5l.94-2.06 2.06-.94-2.06-.94L8.5 2.5l-.94 2.06-2.06.94zm10 10l.94 2.06.94-2.06 2.06-.94-2.06-.94-.94-2.06-.94 2.06-2.06.94z\"/><path d=\"M17.41 7.96l-1.37-1.37c-.4-.4-.92-.59-1.43-.59-.52 0-1.04.2-1.43.59L10.3 9.45l-7.72 7.72c-.78.78-.78 2.05 0 2.83L4 21.41c.39.39.9.59 1.41.59.51 0 1.02-.2 1.41-.59l7.78-7.78 2.81-2.81c.8-.78.8-2.07 0-2.86zM5.41 20L4 18.59l7.72-7.72 1.47 1.35L5.41 20z\"/>\n",
              "  </svg>\n",
              "      </button>\n",
              "      \n",
              "  <style>\n",
              "    .colab-df-container {\n",
              "      display:flex;\n",
              "      flex-wrap:wrap;\n",
              "      gap: 12px;\n",
              "    }\n",
              "\n",
              "    .colab-df-convert {\n",
              "      background-color: #E8F0FE;\n",
              "      border: none;\n",
              "      border-radius: 50%;\n",
              "      cursor: pointer;\n",
              "      display: none;\n",
              "      fill: #1967D2;\n",
              "      height: 32px;\n",
              "      padding: 0 0 0 0;\n",
              "      width: 32px;\n",
              "    }\n",
              "\n",
              "    .colab-df-convert:hover {\n",
              "      background-color: #E2EBFA;\n",
              "      box-shadow: 0px 1px 2px rgba(60, 64, 67, 0.3), 0px 1px 3px 1px rgba(60, 64, 67, 0.15);\n",
              "      fill: #174EA6;\n",
              "    }\n",
              "\n",
              "    [theme=dark] .colab-df-convert {\n",
              "      background-color: #3B4455;\n",
              "      fill: #D2E3FC;\n",
              "    }\n",
              "\n",
              "    [theme=dark] .colab-df-convert:hover {\n",
              "      background-color: #434B5C;\n",
              "      box-shadow: 0px 1px 3px 1px rgba(0, 0, 0, 0.15);\n",
              "      filter: drop-shadow(0px 1px 2px rgba(0, 0, 0, 0.3));\n",
              "      fill: #FFFFFF;\n",
              "    }\n",
              "  </style>\n",
              "\n",
              "      <script>\n",
              "        const buttonEl =\n",
              "          document.querySelector('#df-fdf96e98-eddf-4753-bcf5-41c9322c3699 button.colab-df-convert');\n",
              "        buttonEl.style.display =\n",
              "          google.colab.kernel.accessAllowed ? 'block' : 'none';\n",
              "\n",
              "        async function convertToInteractive(key) {\n",
              "          const element = document.querySelector('#df-fdf96e98-eddf-4753-bcf5-41c9322c3699');\n",
              "          const dataTable =\n",
              "            await google.colab.kernel.invokeFunction('convertToInteractive',\n",
              "                                                     [key], {});\n",
              "          if (!dataTable) return;\n",
              "\n",
              "          const docLinkHtml = 'Like what you see? Visit the ' +\n",
              "            '<a target=\"_blank\" href=https://colab.research.google.com/notebooks/data_table.ipynb>data table notebook</a>'\n",
              "            + ' to learn more about interactive tables.';\n",
              "          element.innerHTML = '';\n",
              "          dataTable['output_type'] = 'display_data';\n",
              "          await google.colab.output.renderOutput(dataTable, element);\n",
              "          const docLink = document.createElement('div');\n",
              "          docLink.innerHTML = docLinkHtml;\n",
              "          element.appendChild(docLink);\n",
              "        }\n",
              "      </script>\n",
              "    </div>\n",
              "  </div>\n",
              "  "
            ]
          },
          "metadata": {},
          "execution_count": 5
        }
      ]
    },
    {
      "cell_type": "code",
      "source": [
        "df['class'].value_counts()"
      ],
      "metadata": {
        "colab": {
          "base_uri": "https://localhost:8080/"
        },
        "id": "IYcjj03jpCYh",
        "outputId": "725f48ae-d91d-44f0-bb96-92576b7e8783"
      },
      "execution_count": 6,
      "outputs": [
        {
          "output_type": "execute_result",
          "data": {
            "text/plain": [
              "Sad      5414\n",
              "Happy    3935\n",
              "Name: class, dtype: int64"
            ]
          },
          "metadata": {},
          "execution_count": 6
        }
      ]
    },
    {
      "cell_type": "code",
      "source": [
        "df.rename(columns={'class': 'Class'},\n",
        "          inplace=True, errors='raise')"
      ],
      "metadata": {
        "id": "kI7-KnD5ptNo"
      },
      "execution_count": 9,
      "outputs": []
    },
    {
      "cell_type": "code",
      "source": [
        "import pandas as pd\n",
        "import matplotlib.pyplot as plt\n",
        "\n",
        "from imblearn.over_sampling import SMOTE\n",
        "\n",
        "# for reproducibility purposes\n",
        "seed = 100\n",
        "# SMOTE number of neighbors\n",
        "k = 8\n",
        "\n",
        "#df = pd.read_csv('diabetes.csv', encoding='utf-8', engine='python')\n",
        "# make a new df made of all the columns, except the target class\n",
        "X = df.loc[:, df.columns != 'Class']\n",
        "y = df.Class\n",
        "sm = SMOTE(sampling_strategy='auto', k_neighbors=k, random_state=seed)\n",
        "X_res, y_res = sm.fit_resample(X, y)\n",
        "\n",
        "\n",
        "\n",
        "df_balance = pd.concat([pd.DataFrame(X_res), pd.DataFrame(y_res)], axis=1)"
      ],
      "metadata": {
        "id": "_gqKgogYpOKH"
      },
      "execution_count": 10,
      "outputs": []
    },
    {
      "cell_type": "code",
      "source": [
        "df_balance"
      ],
      "metadata": {
        "colab": {
          "base_uri": "https://localhost:8080/",
          "height": 488
        },
        "id": "kUADKFfzp1IN",
        "outputId": "f17a1d01-a27f-4a4b-ba48-095eee5ce1a8"
      },
      "execution_count": 11,
      "outputs": [
        {
          "output_type": "execute_result",
          "data": {
            "text/plain": [
              "             x1        y1        z1        v1        x2        y2        z2  \\\n",
              "0      0.694620  0.501455 -3.254367  0.999469  0.744245  0.396398 -3.179939   \n",
              "1      0.694588  0.504175 -2.534289  0.999432  0.743602  0.397457 -2.490653   \n",
              "2      0.693829  0.505565 -2.322195  0.999407  0.741747  0.397610 -2.291190   \n",
              "3      0.693892  0.505048 -2.359528  0.999396  0.741726  0.395579 -2.318423   \n",
              "4      0.693893  0.503199 -2.337915  0.999399  0.741634  0.393342 -2.288379   \n",
              "...         ...       ...       ...       ...       ...       ...       ...   \n",
              "10823  0.457946  0.595637 -0.770073  0.999965  0.480690  0.532435 -0.735769   \n",
              "10824  0.466500  0.488495 -1.600426  0.999635  0.498015  0.414636 -1.585081   \n",
              "10825  0.393680  0.532382 -1.847011  0.999418  0.451638  0.389278 -1.889270   \n",
              "10826  0.470256  0.353320 -1.160354  0.999891  0.498946  0.298835 -1.103488   \n",
              "10827  0.539249  0.394151 -1.169343  0.999884  0.571254  0.328911 -1.115290   \n",
              "\n",
              "             v2        x3        y3  ...  v499      x500      y500      z500  \\\n",
              "0      0.998429  0.775747  0.395627  ...   0.0  0.829803  0.345981  0.006385   \n",
              "1      0.998371  0.774800  0.396850  ...   0.0  0.828951  0.346540  0.000428   \n",
              "2      0.998310  0.772492  0.396936  ...   0.0  0.828537  0.348232 -0.000200   \n",
              "3      0.998286  0.772314  0.394706  ...   0.0  0.827169  0.349005  0.000364   \n",
              "4      0.998310  0.771971  0.392735  ...   0.0  0.825541  0.348934  0.001577   \n",
              "...         ...       ...       ...  ...   ...       ...       ...       ...   \n",
              "10823  0.999921  0.500043  0.527417  ...   0.0  0.528228  0.518510  0.001351   \n",
              "10824  0.999580  0.524501  0.408450  ...   0.0  0.529522  0.378469 -0.008979   \n",
              "10825  0.998696  0.491755  0.381427  ...   0.0  0.527458  0.356188 -0.057962   \n",
              "10826  0.999797  0.521836  0.297651  ...   0.0  0.538829  0.275081  0.019981   \n",
              "10827  0.999801  0.592603  0.327363  ...   0.0  0.605099  0.330319  0.009823   \n",
              "\n",
              "       v500      x501      y501      z501  v501  Class  \n",
              "0       0.0  0.837651  0.335166  0.007548   0.0  Happy  \n",
              "1       0.0  0.836443  0.336774  0.001195   0.0  Happy  \n",
              "2       0.0  0.835846  0.338181  0.000520   0.0  Happy  \n",
              "3       0.0  0.834496  0.339008  0.001077   0.0  Happy  \n",
              "4       0.0  0.832743  0.339025  0.002383   0.0  Happy  \n",
              "...     ...       ...       ...       ...   ...    ...  \n",
              "10823   0.0  0.531970  0.511513  0.001626   0.0  Happy  \n",
              "10824   0.0  0.535759  0.368874 -0.010007   0.0  Happy  \n",
              "10825   0.0  0.538045  0.339365 -0.061357   0.0  Happy  \n",
              "10826   0.0  0.545849  0.264189  0.020396   0.0  Happy  \n",
              "10827   0.0  0.612371  0.319255  0.010607   0.0  Happy  \n",
              "\n",
              "[10828 rows x 2005 columns]"
            ],
            "text/html": [
              "\n",
              "  <div id=\"df-6f0879f8-4e9e-4c9c-a393-3f9dacc04b5f\">\n",
              "    <div class=\"colab-df-container\">\n",
              "      <div>\n",
              "<style scoped>\n",
              "    .dataframe tbody tr th:only-of-type {\n",
              "        vertical-align: middle;\n",
              "    }\n",
              "\n",
              "    .dataframe tbody tr th {\n",
              "        vertical-align: top;\n",
              "    }\n",
              "\n",
              "    .dataframe thead th {\n",
              "        text-align: right;\n",
              "    }\n",
              "</style>\n",
              "<table border=\"1\" class=\"dataframe\">\n",
              "  <thead>\n",
              "    <tr style=\"text-align: right;\">\n",
              "      <th></th>\n",
              "      <th>x1</th>\n",
              "      <th>y1</th>\n",
              "      <th>z1</th>\n",
              "      <th>v1</th>\n",
              "      <th>x2</th>\n",
              "      <th>y2</th>\n",
              "      <th>z2</th>\n",
              "      <th>v2</th>\n",
              "      <th>x3</th>\n",
              "      <th>y3</th>\n",
              "      <th>...</th>\n",
              "      <th>v499</th>\n",
              "      <th>x500</th>\n",
              "      <th>y500</th>\n",
              "      <th>z500</th>\n",
              "      <th>v500</th>\n",
              "      <th>x501</th>\n",
              "      <th>y501</th>\n",
              "      <th>z501</th>\n",
              "      <th>v501</th>\n",
              "      <th>Class</th>\n",
              "    </tr>\n",
              "  </thead>\n",
              "  <tbody>\n",
              "    <tr>\n",
              "      <th>0</th>\n",
              "      <td>0.694620</td>\n",
              "      <td>0.501455</td>\n",
              "      <td>-3.254367</td>\n",
              "      <td>0.999469</td>\n",
              "      <td>0.744245</td>\n",
              "      <td>0.396398</td>\n",
              "      <td>-3.179939</td>\n",
              "      <td>0.998429</td>\n",
              "      <td>0.775747</td>\n",
              "      <td>0.395627</td>\n",
              "      <td>...</td>\n",
              "      <td>0.0</td>\n",
              "      <td>0.829803</td>\n",
              "      <td>0.345981</td>\n",
              "      <td>0.006385</td>\n",
              "      <td>0.0</td>\n",
              "      <td>0.837651</td>\n",
              "      <td>0.335166</td>\n",
              "      <td>0.007548</td>\n",
              "      <td>0.0</td>\n",
              "      <td>Happy</td>\n",
              "    </tr>\n",
              "    <tr>\n",
              "      <th>1</th>\n",
              "      <td>0.694588</td>\n",
              "      <td>0.504175</td>\n",
              "      <td>-2.534289</td>\n",
              "      <td>0.999432</td>\n",
              "      <td>0.743602</td>\n",
              "      <td>0.397457</td>\n",
              "      <td>-2.490653</td>\n",
              "      <td>0.998371</td>\n",
              "      <td>0.774800</td>\n",
              "      <td>0.396850</td>\n",
              "      <td>...</td>\n",
              "      <td>0.0</td>\n",
              "      <td>0.828951</td>\n",
              "      <td>0.346540</td>\n",
              "      <td>0.000428</td>\n",
              "      <td>0.0</td>\n",
              "      <td>0.836443</td>\n",
              "      <td>0.336774</td>\n",
              "      <td>0.001195</td>\n",
              "      <td>0.0</td>\n",
              "      <td>Happy</td>\n",
              "    </tr>\n",
              "    <tr>\n",
              "      <th>2</th>\n",
              "      <td>0.693829</td>\n",
              "      <td>0.505565</td>\n",
              "      <td>-2.322195</td>\n",
              "      <td>0.999407</td>\n",
              "      <td>0.741747</td>\n",
              "      <td>0.397610</td>\n",
              "      <td>-2.291190</td>\n",
              "      <td>0.998310</td>\n",
              "      <td>0.772492</td>\n",
              "      <td>0.396936</td>\n",
              "      <td>...</td>\n",
              "      <td>0.0</td>\n",
              "      <td>0.828537</td>\n",
              "      <td>0.348232</td>\n",
              "      <td>-0.000200</td>\n",
              "      <td>0.0</td>\n",
              "      <td>0.835846</td>\n",
              "      <td>0.338181</td>\n",
              "      <td>0.000520</td>\n",
              "      <td>0.0</td>\n",
              "      <td>Happy</td>\n",
              "    </tr>\n",
              "    <tr>\n",
              "      <th>3</th>\n",
              "      <td>0.693892</td>\n",
              "      <td>0.505048</td>\n",
              "      <td>-2.359528</td>\n",
              "      <td>0.999396</td>\n",
              "      <td>0.741726</td>\n",
              "      <td>0.395579</td>\n",
              "      <td>-2.318423</td>\n",
              "      <td>0.998286</td>\n",
              "      <td>0.772314</td>\n",
              "      <td>0.394706</td>\n",
              "      <td>...</td>\n",
              "      <td>0.0</td>\n",
              "      <td>0.827169</td>\n",
              "      <td>0.349005</td>\n",
              "      <td>0.000364</td>\n",
              "      <td>0.0</td>\n",
              "      <td>0.834496</td>\n",
              "      <td>0.339008</td>\n",
              "      <td>0.001077</td>\n",
              "      <td>0.0</td>\n",
              "      <td>Happy</td>\n",
              "    </tr>\n",
              "    <tr>\n",
              "      <th>4</th>\n",
              "      <td>0.693893</td>\n",
              "      <td>0.503199</td>\n",
              "      <td>-2.337915</td>\n",
              "      <td>0.999399</td>\n",
              "      <td>0.741634</td>\n",
              "      <td>0.393342</td>\n",
              "      <td>-2.288379</td>\n",
              "      <td>0.998310</td>\n",
              "      <td>0.771971</td>\n",
              "      <td>0.392735</td>\n",
              "      <td>...</td>\n",
              "      <td>0.0</td>\n",
              "      <td>0.825541</td>\n",
              "      <td>0.348934</td>\n",
              "      <td>0.001577</td>\n",
              "      <td>0.0</td>\n",
              "      <td>0.832743</td>\n",
              "      <td>0.339025</td>\n",
              "      <td>0.002383</td>\n",
              "      <td>0.0</td>\n",
              "      <td>Happy</td>\n",
              "    </tr>\n",
              "    <tr>\n",
              "      <th>...</th>\n",
              "      <td>...</td>\n",
              "      <td>...</td>\n",
              "      <td>...</td>\n",
              "      <td>...</td>\n",
              "      <td>...</td>\n",
              "      <td>...</td>\n",
              "      <td>...</td>\n",
              "      <td>...</td>\n",
              "      <td>...</td>\n",
              "      <td>...</td>\n",
              "      <td>...</td>\n",
              "      <td>...</td>\n",
              "      <td>...</td>\n",
              "      <td>...</td>\n",
              "      <td>...</td>\n",
              "      <td>...</td>\n",
              "      <td>...</td>\n",
              "      <td>...</td>\n",
              "      <td>...</td>\n",
              "      <td>...</td>\n",
              "      <td>...</td>\n",
              "    </tr>\n",
              "    <tr>\n",
              "      <th>10823</th>\n",
              "      <td>0.457946</td>\n",
              "      <td>0.595637</td>\n",
              "      <td>-0.770073</td>\n",
              "      <td>0.999965</td>\n",
              "      <td>0.480690</td>\n",
              "      <td>0.532435</td>\n",
              "      <td>-0.735769</td>\n",
              "      <td>0.999921</td>\n",
              "      <td>0.500043</td>\n",
              "      <td>0.527417</td>\n",
              "      <td>...</td>\n",
              "      <td>0.0</td>\n",
              "      <td>0.528228</td>\n",
              "      <td>0.518510</td>\n",
              "      <td>0.001351</td>\n",
              "      <td>0.0</td>\n",
              "      <td>0.531970</td>\n",
              "      <td>0.511513</td>\n",
              "      <td>0.001626</td>\n",
              "      <td>0.0</td>\n",
              "      <td>Happy</td>\n",
              "    </tr>\n",
              "    <tr>\n",
              "      <th>10824</th>\n",
              "      <td>0.466500</td>\n",
              "      <td>0.488495</td>\n",
              "      <td>-1.600426</td>\n",
              "      <td>0.999635</td>\n",
              "      <td>0.498015</td>\n",
              "      <td>0.414636</td>\n",
              "      <td>-1.585081</td>\n",
              "      <td>0.999580</td>\n",
              "      <td>0.524501</td>\n",
              "      <td>0.408450</td>\n",
              "      <td>...</td>\n",
              "      <td>0.0</td>\n",
              "      <td>0.529522</td>\n",
              "      <td>0.378469</td>\n",
              "      <td>-0.008979</td>\n",
              "      <td>0.0</td>\n",
              "      <td>0.535759</td>\n",
              "      <td>0.368874</td>\n",
              "      <td>-0.010007</td>\n",
              "      <td>0.0</td>\n",
              "      <td>Happy</td>\n",
              "    </tr>\n",
              "    <tr>\n",
              "      <th>10825</th>\n",
              "      <td>0.393680</td>\n",
              "      <td>0.532382</td>\n",
              "      <td>-1.847011</td>\n",
              "      <td>0.999418</td>\n",
              "      <td>0.451638</td>\n",
              "      <td>0.389278</td>\n",
              "      <td>-1.889270</td>\n",
              "      <td>0.998696</td>\n",
              "      <td>0.491755</td>\n",
              "      <td>0.381427</td>\n",
              "      <td>...</td>\n",
              "      <td>0.0</td>\n",
              "      <td>0.527458</td>\n",
              "      <td>0.356188</td>\n",
              "      <td>-0.057962</td>\n",
              "      <td>0.0</td>\n",
              "      <td>0.538045</td>\n",
              "      <td>0.339365</td>\n",
              "      <td>-0.061357</td>\n",
              "      <td>0.0</td>\n",
              "      <td>Happy</td>\n",
              "    </tr>\n",
              "    <tr>\n",
              "      <th>10826</th>\n",
              "      <td>0.470256</td>\n",
              "      <td>0.353320</td>\n",
              "      <td>-1.160354</td>\n",
              "      <td>0.999891</td>\n",
              "      <td>0.498946</td>\n",
              "      <td>0.298835</td>\n",
              "      <td>-1.103488</td>\n",
              "      <td>0.999797</td>\n",
              "      <td>0.521836</td>\n",
              "      <td>0.297651</td>\n",
              "      <td>...</td>\n",
              "      <td>0.0</td>\n",
              "      <td>0.538829</td>\n",
              "      <td>0.275081</td>\n",
              "      <td>0.019981</td>\n",
              "      <td>0.0</td>\n",
              "      <td>0.545849</td>\n",
              "      <td>0.264189</td>\n",
              "      <td>0.020396</td>\n",
              "      <td>0.0</td>\n",
              "      <td>Happy</td>\n",
              "    </tr>\n",
              "    <tr>\n",
              "      <th>10827</th>\n",
              "      <td>0.539249</td>\n",
              "      <td>0.394151</td>\n",
              "      <td>-1.169343</td>\n",
              "      <td>0.999884</td>\n",
              "      <td>0.571254</td>\n",
              "      <td>0.328911</td>\n",
              "      <td>-1.115290</td>\n",
              "      <td>0.999801</td>\n",
              "      <td>0.592603</td>\n",
              "      <td>0.327363</td>\n",
              "      <td>...</td>\n",
              "      <td>0.0</td>\n",
              "      <td>0.605099</td>\n",
              "      <td>0.330319</td>\n",
              "      <td>0.009823</td>\n",
              "      <td>0.0</td>\n",
              "      <td>0.612371</td>\n",
              "      <td>0.319255</td>\n",
              "      <td>0.010607</td>\n",
              "      <td>0.0</td>\n",
              "      <td>Happy</td>\n",
              "    </tr>\n",
              "  </tbody>\n",
              "</table>\n",
              "<p>10828 rows × 2005 columns</p>\n",
              "</div>\n",
              "      <button class=\"colab-df-convert\" onclick=\"convertToInteractive('df-6f0879f8-4e9e-4c9c-a393-3f9dacc04b5f')\"\n",
              "              title=\"Convert this dataframe to an interactive table.\"\n",
              "              style=\"display:none;\">\n",
              "        \n",
              "  <svg xmlns=\"http://www.w3.org/2000/svg\" height=\"24px\"viewBox=\"0 0 24 24\"\n",
              "       width=\"24px\">\n",
              "    <path d=\"M0 0h24v24H0V0z\" fill=\"none\"/>\n",
              "    <path d=\"M18.56 5.44l.94 2.06.94-2.06 2.06-.94-2.06-.94-.94-2.06-.94 2.06-2.06.94zm-11 1L8.5 8.5l.94-2.06 2.06-.94-2.06-.94L8.5 2.5l-.94 2.06-2.06.94zm10 10l.94 2.06.94-2.06 2.06-.94-2.06-.94-.94-2.06-.94 2.06-2.06.94z\"/><path d=\"M17.41 7.96l-1.37-1.37c-.4-.4-.92-.59-1.43-.59-.52 0-1.04.2-1.43.59L10.3 9.45l-7.72 7.72c-.78.78-.78 2.05 0 2.83L4 21.41c.39.39.9.59 1.41.59.51 0 1.02-.2 1.41-.59l7.78-7.78 2.81-2.81c.8-.78.8-2.07 0-2.86zM5.41 20L4 18.59l7.72-7.72 1.47 1.35L5.41 20z\"/>\n",
              "  </svg>\n",
              "      </button>\n",
              "      \n",
              "  <style>\n",
              "    .colab-df-container {\n",
              "      display:flex;\n",
              "      flex-wrap:wrap;\n",
              "      gap: 12px;\n",
              "    }\n",
              "\n",
              "    .colab-df-convert {\n",
              "      background-color: #E8F0FE;\n",
              "      border: none;\n",
              "      border-radius: 50%;\n",
              "      cursor: pointer;\n",
              "      display: none;\n",
              "      fill: #1967D2;\n",
              "      height: 32px;\n",
              "      padding: 0 0 0 0;\n",
              "      width: 32px;\n",
              "    }\n",
              "\n",
              "    .colab-df-convert:hover {\n",
              "      background-color: #E2EBFA;\n",
              "      box-shadow: 0px 1px 2px rgba(60, 64, 67, 0.3), 0px 1px 3px 1px rgba(60, 64, 67, 0.15);\n",
              "      fill: #174EA6;\n",
              "    }\n",
              "\n",
              "    [theme=dark] .colab-df-convert {\n",
              "      background-color: #3B4455;\n",
              "      fill: #D2E3FC;\n",
              "    }\n",
              "\n",
              "    [theme=dark] .colab-df-convert:hover {\n",
              "      background-color: #434B5C;\n",
              "      box-shadow: 0px 1px 3px 1px rgba(0, 0, 0, 0.15);\n",
              "      filter: drop-shadow(0px 1px 2px rgba(0, 0, 0, 0.3));\n",
              "      fill: #FFFFFF;\n",
              "    }\n",
              "  </style>\n",
              "\n",
              "      <script>\n",
              "        const buttonEl =\n",
              "          document.querySelector('#df-6f0879f8-4e9e-4c9c-a393-3f9dacc04b5f button.colab-df-convert');\n",
              "        buttonEl.style.display =\n",
              "          google.colab.kernel.accessAllowed ? 'block' : 'none';\n",
              "\n",
              "        async function convertToInteractive(key) {\n",
              "          const element = document.querySelector('#df-6f0879f8-4e9e-4c9c-a393-3f9dacc04b5f');\n",
              "          const dataTable =\n",
              "            await google.colab.kernel.invokeFunction('convertToInteractive',\n",
              "                                                     [key], {});\n",
              "          if (!dataTable) return;\n",
              "\n",
              "          const docLinkHtml = 'Like what you see? Visit the ' +\n",
              "            '<a target=\"_blank\" href=https://colab.research.google.com/notebooks/data_table.ipynb>data table notebook</a>'\n",
              "            + ' to learn more about interactive tables.';\n",
              "          element.innerHTML = '';\n",
              "          dataTable['output_type'] = 'display_data';\n",
              "          await google.colab.output.renderOutput(dataTable, element);\n",
              "          const docLink = document.createElement('div');\n",
              "          docLink.innerHTML = docLinkHtml;\n",
              "          element.appendChild(docLink);\n",
              "        }\n",
              "      </script>\n",
              "    </div>\n",
              "  </div>\n",
              "  "
            ]
          },
          "metadata": {},
          "execution_count": 11
        }
      ]
    },
    {
      "cell_type": "code",
      "source": [
        "df_balance['Class'].value_counts()"
      ],
      "metadata": {
        "colab": {
          "base_uri": "https://localhost:8080/"
        },
        "id": "wJd76E-np8bX",
        "outputId": "c7384613-d87d-4188-921b-79234912ba0a"
      },
      "execution_count": 12,
      "outputs": [
        {
          "output_type": "execute_result",
          "data": {
            "text/plain": [
              "Happy    5414\n",
              "Sad      5414\n",
              "Name: Class, dtype: int64"
            ]
          },
          "metadata": {},
          "execution_count": 12
        }
      ]
    },
    {
      "cell_type": "code",
      "source": [
        "df_balance.to_csv('df_smote.csv', index=False, encoding='utf-8')"
      ],
      "metadata": {
        "id": "5y7HSIlLqAbI"
      },
      "execution_count": 13,
      "outputs": []
    },
    {
      "cell_type": "code",
      "source": [
        "X = df_balance.drop('Class', axis=1) # features\n",
        "y = df_balance['Class'] # target value"
      ],
      "metadata": {
        "id": "Z8aWVqNEqWHy"
      },
      "execution_count": 14,
      "outputs": []
    },
    {
      "cell_type": "code",
      "source": [
        "X_train, X_test, y_train, y_test = train_test_split(X, y, test_size=0.1, random_state=1234)"
      ],
      "metadata": {
        "id": "1pbZELAcqj5b"
      },
      "execution_count": 15,
      "outputs": []
    },
    {
      "cell_type": "code",
      "source": [
        "logisticRegr = LogisticRegression()"
      ],
      "metadata": {
        "id": "BvLEckWzqk5U"
      },
      "execution_count": 16,
      "outputs": []
    },
    {
      "cell_type": "code",
      "source": [
        "logisticRegr.fit(X_train, y_train)"
      ],
      "metadata": {
        "colab": {
          "base_uri": "https://localhost:8080/"
        },
        "id": "gL7vwSNjqnDm",
        "outputId": "ea445507-a97e-4ee5-af0d-d85d3fb09b30"
      },
      "execution_count": 17,
      "outputs": [
        {
          "output_type": "stream",
          "name": "stderr",
          "text": [
            "/usr/local/lib/python3.7/dist-packages/sklearn/linear_model/_logistic.py:818: ConvergenceWarning: lbfgs failed to converge (status=1):\n",
            "STOP: TOTAL NO. of ITERATIONS REACHED LIMIT.\n",
            "\n",
            "Increase the number of iterations (max_iter) or scale the data as shown in:\n",
            "    https://scikit-learn.org/stable/modules/preprocessing.html\n",
            "Please also refer to the documentation for alternative solver options:\n",
            "    https://scikit-learn.org/stable/modules/linear_model.html#logistic-regression\n",
            "  extra_warning_msg=_LOGISTIC_SOLVER_CONVERGENCE_MSG,\n"
          ]
        },
        {
          "output_type": "execute_result",
          "data": {
            "text/plain": [
              "LogisticRegression()"
            ]
          },
          "metadata": {},
          "execution_count": 17
        }
      ]
    },
    {
      "cell_type": "code",
      "source": [
        "score = logisticRegr.score(X_test, y_test)\n",
        "print(score)"
      ],
      "metadata": {
        "colab": {
          "base_uri": "https://localhost:8080/"
        },
        "id": "_S5JcvF8qtIq",
        "outputId": "60e23877-49a4-4863-80c0-5cd6f0d9058a"
      },
      "execution_count": 18,
      "outputs": [
        {
          "output_type": "stream",
          "name": "stdout",
          "text": [
            "0.948291782086796\n"
          ]
        }
      ]
    },
    {
      "cell_type": "code",
      "source": [
        "y_pred = logisticRegr.predict(X_test)"
      ],
      "metadata": {
        "id": "0kDcr1M-quMY"
      },
      "execution_count": 19,
      "outputs": []
    },
    {
      "cell_type": "code",
      "source": [
        "from sklearn.metrics import precision_score"
      ],
      "metadata": {
        "id": "ObNwpt1wqzJy"
      },
      "execution_count": 20,
      "outputs": []
    },
    {
      "cell_type": "code",
      "source": [
        "precision_score(y_test, y_pred, pos_label='Happy')"
      ],
      "metadata": {
        "colab": {
          "base_uri": "https://localhost:8080/"
        },
        "id": "lN-n8am1q9yv",
        "outputId": "29b6cb0d-55c5-4ba1-d0b3-92a243f52fac"
      },
      "execution_count": 21,
      "outputs": [
        {
          "output_type": "execute_result",
          "data": {
            "text/plain": [
              "0.9499072356215214"
            ]
          },
          "metadata": {},
          "execution_count": 21
        }
      ]
    },
    {
      "cell_type": "code",
      "source": [
        "from sklearn.metrics import recall_score"
      ],
      "metadata": {
        "id": "aNA29vkErDkI"
      },
      "execution_count": 22,
      "outputs": []
    },
    {
      "cell_type": "code",
      "source": [
        "recall_score(y_test, y_pred, pos_label='Happy')"
      ],
      "metadata": {
        "colab": {
          "base_uri": "https://localhost:8080/"
        },
        "id": "TYx-VhYjrGmf",
        "outputId": "b5a69bd7-8dcc-4513-8e4e-fd10ef21d32a"
      },
      "execution_count": 23,
      "outputs": [
        {
          "output_type": "execute_result",
          "data": {
            "text/plain": [
              "0.9463955637707948"
            ]
          },
          "metadata": {},
          "execution_count": 23
        }
      ]
    },
    {
      "cell_type": "code",
      "source": [
        "ridge_class =  RidgeClassifier()"
      ],
      "metadata": {
        "id": "pPBVcQfnrMYY"
      },
      "execution_count": 24,
      "outputs": []
    },
    {
      "cell_type": "code",
      "source": [
        "ridge_class.fit(X_train, y_train)"
      ],
      "metadata": {
        "colab": {
          "base_uri": "https://localhost:8080/"
        },
        "id": "kWdAgHGVrREq",
        "outputId": "ce061291-fe91-4787-8233-6f5c9c38aa56"
      },
      "execution_count": 25,
      "outputs": [
        {
          "output_type": "execute_result",
          "data": {
            "text/plain": [
              "RidgeClassifier()"
            ]
          },
          "metadata": {},
          "execution_count": 25
        }
      ]
    },
    {
      "cell_type": "code",
      "source": [
        "score_ridge = ridge_class.score(X_test, y_test)\n",
        "print(score_ridge)"
      ],
      "metadata": {
        "colab": {
          "base_uri": "https://localhost:8080/"
        },
        "id": "FO63CCzOrhHw",
        "outputId": "ebbd737c-fd63-4b8a-9ad4-025cdaa0618f"
      },
      "execution_count": 26,
      "outputs": [
        {
          "output_type": "stream",
          "name": "stdout",
          "text": [
            "0.9695290858725761\n"
          ]
        }
      ]
    },
    {
      "cell_type": "code",
      "source": [
        "y_pred = ridge_class.predict(X_test)"
      ],
      "metadata": {
        "id": "bpuWOhS8rkoh"
      },
      "execution_count": 27,
      "outputs": []
    },
    {
      "cell_type": "code",
      "source": [
        "precision_score(y_test, y_pred, pos_label='Happy')"
      ],
      "metadata": {
        "colab": {
          "base_uri": "https://localhost:8080/"
        },
        "id": "o4F4WoUdrnWq",
        "outputId": "02ac919a-75d6-424f-e3da-038c02fea6c1"
      },
      "execution_count": 28,
      "outputs": [
        {
          "output_type": "execute_result",
          "data": {
            "text/plain": [
              "0.9756554307116105"
            ]
          },
          "metadata": {},
          "execution_count": 28
        }
      ]
    },
    {
      "cell_type": "code",
      "source": [
        "recall_score(y_test, y_pred, pos_label='Happy')"
      ],
      "metadata": {
        "colab": {
          "base_uri": "https://localhost:8080/"
        },
        "id": "vOUnvq6nrsDg",
        "outputId": "7dffcc16-945e-4df0-f33c-fb1449a29639"
      },
      "execution_count": 29,
      "outputs": [
        {
          "output_type": "execute_result",
          "data": {
            "text/plain": [
              "0.9630314232902033"
            ]
          },
          "metadata": {},
          "execution_count": 29
        }
      ]
    },
    {
      "cell_type": "code",
      "source": [
        "randomf= RandomForestClassifier()"
      ],
      "metadata": {
        "id": "BWnHSvUdrxl8"
      },
      "execution_count": 30,
      "outputs": []
    },
    {
      "cell_type": "code",
      "source": [
        "randomf.fit(X_train, y_train)"
      ],
      "metadata": {
        "colab": {
          "base_uri": "https://localhost:8080/"
        },
        "id": "YS7H_TCer2ge",
        "outputId": "76708202-bbaa-47f0-ef52-6fbd62382e62"
      },
      "execution_count": 31,
      "outputs": [
        {
          "output_type": "execute_result",
          "data": {
            "text/plain": [
              "RandomForestClassifier()"
            ]
          },
          "metadata": {},
          "execution_count": 31
        }
      ]
    },
    {
      "cell_type": "code",
      "source": [
        "score_randomf = randomf.score(X_test, y_test)\n",
        "print(score_randomf)"
      ],
      "metadata": {
        "colab": {
          "base_uri": "https://localhost:8080/"
        },
        "id": "fQDP3XQGr319",
        "outputId": "0eb624cd-e589-40b0-ad33-981dbcc64d52"
      },
      "execution_count": 32,
      "outputs": [
        {
          "output_type": "stream",
          "name": "stdout",
          "text": [
            "0.997229916897507\n"
          ]
        }
      ]
    },
    {
      "cell_type": "code",
      "source": [
        "y_pred = randomf.predict(X_test)"
      ],
      "metadata": {
        "id": "-NH_vm4XsBOP"
      },
      "execution_count": 33,
      "outputs": []
    },
    {
      "cell_type": "code",
      "source": [
        "precision_score(y_test, y_pred, pos_label='Happy')"
      ],
      "metadata": {
        "colab": {
          "base_uri": "https://localhost:8080/"
        },
        "id": "e1hlvX4NsEmZ",
        "outputId": "c8201f0c-f808-4a52-fbf0-55e51f201de1"
      },
      "execution_count": 34,
      "outputs": [
        {
          "output_type": "execute_result",
          "data": {
            "text/plain": [
              "0.996309963099631"
            ]
          },
          "metadata": {},
          "execution_count": 34
        }
      ]
    },
    {
      "cell_type": "code",
      "source": [
        "recall_score(y_test, y_pred, pos_label='Happy')"
      ],
      "metadata": {
        "colab": {
          "base_uri": "https://localhost:8080/"
        },
        "id": "5zeLXA7psH2P",
        "outputId": "73c37c64-6a86-408c-9401-0d46fbed089e"
      },
      "execution_count": 35,
      "outputs": [
        {
          "output_type": "execute_result",
          "data": {
            "text/plain": [
              "0.9981515711645101"
            ]
          },
          "metadata": {},
          "execution_count": 35
        }
      ]
    },
    {
      "cell_type": "code",
      "source": [
        "gb = GradientBoostingClassifier()"
      ],
      "metadata": {
        "id": "mgIucXTcsLCO"
      },
      "execution_count": 36,
      "outputs": []
    },
    {
      "cell_type": "code",
      "source": [
        "gb.fit(X_train, y_train)"
      ],
      "metadata": {
        "colab": {
          "base_uri": "https://localhost:8080/"
        },
        "id": "ffN8ZW9IsNLh",
        "outputId": "8f719598-e6ac-4ccc-e361-024441e7f585"
      },
      "execution_count": 37,
      "outputs": [
        {
          "output_type": "execute_result",
          "data": {
            "text/plain": [
              "GradientBoostingClassifier()"
            ]
          },
          "metadata": {},
          "execution_count": 37
        }
      ]
    },
    {
      "cell_type": "code",
      "source": [
        "score_gb = gb.score(X_test, y_test)\n",
        "print(score_gb)"
      ],
      "metadata": {
        "colab": {
          "base_uri": "https://localhost:8080/"
        },
        "id": "00VGMaUasQrj",
        "outputId": "a38741b4-8c18-4799-992f-bf4f22ab667a"
      },
      "execution_count": 38,
      "outputs": [
        {
          "output_type": "stream",
          "name": "stdout",
          "text": [
            "0.9889196675900277\n"
          ]
        }
      ]
    },
    {
      "cell_type": "code",
      "source": [
        "y_pred = gb.predict(X_test)"
      ],
      "metadata": {
        "id": "QXz9OMa8sUoK"
      },
      "execution_count": 39,
      "outputs": []
    },
    {
      "cell_type": "code",
      "source": [
        "precision_score(y_test, y_pred, pos_label='Happy')"
      ],
      "metadata": {
        "colab": {
          "base_uri": "https://localhost:8080/"
        },
        "id": "_G2JifzxsVMW",
        "outputId": "25d47f67-5bb0-4de1-8ea3-19b63703d06e"
      },
      "execution_count": 40,
      "outputs": [
        {
          "output_type": "execute_result",
          "data": {
            "text/plain": [
              "0.9907235621521335"
            ]
          },
          "metadata": {},
          "execution_count": 40
        }
      ]
    },
    {
      "cell_type": "code",
      "source": [
        "recall_score(y_test, y_pred, pos_label='Happy')"
      ],
      "metadata": {
        "colab": {
          "base_uri": "https://localhost:8080/"
        },
        "id": "o1UC9PtdsX4g",
        "outputId": "798633bb-d5cc-45f5-d364-dab21163cf55"
      },
      "execution_count": 41,
      "outputs": [
        {
          "output_type": "execute_result",
          "data": {
            "text/plain": [
              "0.9870609981515711"
            ]
          },
          "metadata": {},
          "execution_count": 41
        }
      ]
    }
  ]
}