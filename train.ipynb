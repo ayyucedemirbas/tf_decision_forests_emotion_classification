{
 "cells": [
  {
   "cell_type": "code",
   "execution_count": 1,
   "id": "1217a381",
   "metadata": {},
   "outputs": [
    {
     "name": "stderr",
     "output_type": "stream",
     "text": [
      "/opt/homebrew/Caskroom/miniforge/base/envs/mlp/lib/python3.8/site-packages/scipy/__init__.py:146: UserWarning: A NumPy version >=1.16.5 and <1.23.0 is required for this version of SciPy (detected version 1.23.4\n",
      "  warnings.warn(f\"A NumPy version >={np_minversion} and <{np_maxversion}\"\n"
     ]
    }
   ],
   "source": [
    "import pandas as pd\n",
    "from sklearn.model_selection import train_test_split\n",
    "from sklearn.pipeline import make_pipeline \n",
    "from sklearn.preprocessing import StandardScaler \n",
    "import numpy as np\n",
    "\n",
    "from sklearn.linear_model import LogisticRegression, RidgeClassifier\n",
    "from sklearn.ensemble import RandomForestClassifier, GradientBoostingClassifier\n",
    "from sklearn.metrics import accuracy_score # Accuracy metrics \n",
    "import pickle"
   ]
  },
  {
   "cell_type": "code",
   "execution_count": 2,
   "id": "a6211286",
   "metadata": {},
   "outputs": [],
   "source": [
    "df = pd.read_csv('emotion.csv')"
   ]
  },
  {
   "cell_type": "code",
   "execution_count": 3,
   "id": "2a3a67ea",
   "metadata": {},
   "outputs": [],
   "source": [
    "df=df.dropna(axis='columns')"
   ]
  },
  {
   "cell_type": "code",
   "execution_count": 4,
   "id": "104483fb",
   "metadata": {},
   "outputs": [],
   "source": [
    "X = df.drop('class', axis=1) # features\n",
    "y = df['class'] # target value"
   ]
  },
  {
   "cell_type": "code",
   "execution_count": 5,
   "id": "0fd777da",
   "metadata": {},
   "outputs": [
    {
     "data": {
      "text/plain": [
       "0      Happy\n",
       "1      Happy\n",
       "2      Happy\n",
       "3      Happy\n",
       "4      Happy\n",
       "       ...  \n",
       "436      Sad\n",
       "437      Sad\n",
       "438      Sad\n",
       "439      Sad\n",
       "440      Sad\n",
       "Name: class, Length: 441, dtype: object"
      ]
     },
     "execution_count": 5,
     "metadata": {},
     "output_type": "execute_result"
    }
   ],
   "source": [
    "y"
   ]
  },
  {
   "cell_type": "code",
   "execution_count": 6,
   "id": "43e3eee1",
   "metadata": {},
   "outputs": [
    {
     "data": {
      "text/html": [
       "<div>\n",
       "<style scoped>\n",
       "    .dataframe tbody tr th:only-of-type {\n",
       "        vertical-align: middle;\n",
       "    }\n",
       "\n",
       "    .dataframe tbody tr th {\n",
       "        vertical-align: top;\n",
       "    }\n",
       "\n",
       "    .dataframe thead th {\n",
       "        text-align: right;\n",
       "    }\n",
       "</style>\n",
       "<table border=\"1\" class=\"dataframe\">\n",
       "  <thead>\n",
       "    <tr style=\"text-align: right;\">\n",
       "      <th></th>\n",
       "      <th>x1</th>\n",
       "      <th>y1</th>\n",
       "      <th>z1</th>\n",
       "      <th>v1</th>\n",
       "      <th>x2</th>\n",
       "      <th>y2</th>\n",
       "      <th>z2</th>\n",
       "      <th>v2</th>\n",
       "      <th>x3</th>\n",
       "      <th>y3</th>\n",
       "      <th>...</th>\n",
       "      <th>z499</th>\n",
       "      <th>v499</th>\n",
       "      <th>x500</th>\n",
       "      <th>y500</th>\n",
       "      <th>z500</th>\n",
       "      <th>v500</th>\n",
       "      <th>x501</th>\n",
       "      <th>y501</th>\n",
       "      <th>z501</th>\n",
       "      <th>v501</th>\n",
       "    </tr>\n",
       "  </thead>\n",
       "  <tbody>\n",
       "    <tr>\n",
       "      <th>0</th>\n",
       "      <td>0.611963</td>\n",
       "      <td>0.568824</td>\n",
       "      <td>-2.343653</td>\n",
       "      <td>0.999881</td>\n",
       "      <td>0.668213</td>\n",
       "      <td>0.449927</td>\n",
       "      <td>-2.276455</td>\n",
       "      <td>0.999847</td>\n",
       "      <td>0.702016</td>\n",
       "      <td>0.451942</td>\n",
       "      <td>...</td>\n",
       "      <td>-0.039163</td>\n",
       "      <td>0.0</td>\n",
       "      <td>0.739650</td>\n",
       "      <td>0.421451</td>\n",
       "      <td>0.002701</td>\n",
       "      <td>0.0</td>\n",
       "      <td>0.748513</td>\n",
       "      <td>0.410192</td>\n",
       "      <td>0.003465</td>\n",
       "      <td>0.0</td>\n",
       "    </tr>\n",
       "    <tr>\n",
       "      <th>1</th>\n",
       "      <td>0.617652</td>\n",
       "      <td>0.566049</td>\n",
       "      <td>-2.323081</td>\n",
       "      <td>0.999881</td>\n",
       "      <td>0.669807</td>\n",
       "      <td>0.449244</td>\n",
       "      <td>-2.256609</td>\n",
       "      <td>0.999850</td>\n",
       "      <td>0.703753</td>\n",
       "      <td>0.450986</td>\n",
       "      <td>...</td>\n",
       "      <td>-0.039959</td>\n",
       "      <td>0.0</td>\n",
       "      <td>0.741532</td>\n",
       "      <td>0.424179</td>\n",
       "      <td>0.002447</td>\n",
       "      <td>0.0</td>\n",
       "      <td>0.750179</td>\n",
       "      <td>0.414630</td>\n",
       "      <td>0.003384</td>\n",
       "      <td>0.0</td>\n",
       "    </tr>\n",
       "    <tr>\n",
       "      <th>2</th>\n",
       "      <td>0.618621</td>\n",
       "      <td>0.565547</td>\n",
       "      <td>-2.250670</td>\n",
       "      <td>0.999878</td>\n",
       "      <td>0.670322</td>\n",
       "      <td>0.449418</td>\n",
       "      <td>-2.187487</td>\n",
       "      <td>0.999850</td>\n",
       "      <td>0.704503</td>\n",
       "      <td>0.451050</td>\n",
       "      <td>...</td>\n",
       "      <td>-0.042809</td>\n",
       "      <td>0.0</td>\n",
       "      <td>0.741137</td>\n",
       "      <td>0.438544</td>\n",
       "      <td>-0.001054</td>\n",
       "      <td>0.0</td>\n",
       "      <td>0.749507</td>\n",
       "      <td>0.429632</td>\n",
       "      <td>-0.000409</td>\n",
       "      <td>0.0</td>\n",
       "    </tr>\n",
       "    <tr>\n",
       "      <th>3</th>\n",
       "      <td>0.618629</td>\n",
       "      <td>0.565881</td>\n",
       "      <td>-2.115307</td>\n",
       "      <td>0.999877</td>\n",
       "      <td>0.670325</td>\n",
       "      <td>0.451597</td>\n",
       "      <td>-2.054101</td>\n",
       "      <td>0.999853</td>\n",
       "      <td>0.704558</td>\n",
       "      <td>0.452957</td>\n",
       "      <td>...</td>\n",
       "      <td>-0.040105</td>\n",
       "      <td>0.0</td>\n",
       "      <td>0.740903</td>\n",
       "      <td>0.440421</td>\n",
       "      <td>0.002107</td>\n",
       "      <td>0.0</td>\n",
       "      <td>0.749409</td>\n",
       "      <td>0.431513</td>\n",
       "      <td>0.002940</td>\n",
       "      <td>0.0</td>\n",
       "    </tr>\n",
       "    <tr>\n",
       "      <th>4</th>\n",
       "      <td>0.618577</td>\n",
       "      <td>0.565814</td>\n",
       "      <td>-2.319589</td>\n",
       "      <td>0.999878</td>\n",
       "      <td>0.670324</td>\n",
       "      <td>0.451619</td>\n",
       "      <td>-2.255415</td>\n",
       "      <td>0.999854</td>\n",
       "      <td>0.704578</td>\n",
       "      <td>0.452987</td>\n",
       "      <td>...</td>\n",
       "      <td>-0.040787</td>\n",
       "      <td>0.0</td>\n",
       "      <td>0.740981</td>\n",
       "      <td>0.427238</td>\n",
       "      <td>0.001240</td>\n",
       "      <td>0.0</td>\n",
       "      <td>0.749257</td>\n",
       "      <td>0.418693</td>\n",
       "      <td>0.001937</td>\n",
       "      <td>0.0</td>\n",
       "    </tr>\n",
       "    <tr>\n",
       "      <th>...</th>\n",
       "      <td>...</td>\n",
       "      <td>...</td>\n",
       "      <td>...</td>\n",
       "      <td>...</td>\n",
       "      <td>...</td>\n",
       "      <td>...</td>\n",
       "      <td>...</td>\n",
       "      <td>...</td>\n",
       "      <td>...</td>\n",
       "      <td>...</td>\n",
       "      <td>...</td>\n",
       "      <td>...</td>\n",
       "      <td>...</td>\n",
       "      <td>...</td>\n",
       "      <td>...</td>\n",
       "      <td>...</td>\n",
       "      <td>...</td>\n",
       "      <td>...</td>\n",
       "      <td>...</td>\n",
       "      <td>...</td>\n",
       "      <td>...</td>\n",
       "    </tr>\n",
       "    <tr>\n",
       "      <th>436</th>\n",
       "      <td>0.645554</td>\n",
       "      <td>0.638725</td>\n",
       "      <td>-3.187438</td>\n",
       "      <td>0.999315</td>\n",
       "      <td>0.716420</td>\n",
       "      <td>0.467873</td>\n",
       "      <td>-3.090263</td>\n",
       "      <td>0.998886</td>\n",
       "      <td>0.765199</td>\n",
       "      <td>0.471970</td>\n",
       "      <td>...</td>\n",
       "      <td>-0.032857</td>\n",
       "      <td>0.0</td>\n",
       "      <td>0.808199</td>\n",
       "      <td>0.434687</td>\n",
       "      <td>0.015134</td>\n",
       "      <td>0.0</td>\n",
       "      <td>0.819811</td>\n",
       "      <td>0.418993</td>\n",
       "      <td>0.015736</td>\n",
       "      <td>0.0</td>\n",
       "    </tr>\n",
       "    <tr>\n",
       "      <th>437</th>\n",
       "      <td>0.646343</td>\n",
       "      <td>0.638073</td>\n",
       "      <td>-3.194052</td>\n",
       "      <td>0.999305</td>\n",
       "      <td>0.717623</td>\n",
       "      <td>0.468369</td>\n",
       "      <td>-3.091898</td>\n",
       "      <td>0.998869</td>\n",
       "      <td>0.766458</td>\n",
       "      <td>0.472229</td>\n",
       "      <td>...</td>\n",
       "      <td>-0.033895</td>\n",
       "      <td>0.0</td>\n",
       "      <td>0.809931</td>\n",
       "      <td>0.437720</td>\n",
       "      <td>0.014025</td>\n",
       "      <td>0.0</td>\n",
       "      <td>0.821476</td>\n",
       "      <td>0.421746</td>\n",
       "      <td>0.014671</td>\n",
       "      <td>0.0</td>\n",
       "    </tr>\n",
       "    <tr>\n",
       "      <th>438</th>\n",
       "      <td>0.647030</td>\n",
       "      <td>0.637984</td>\n",
       "      <td>-3.747355</td>\n",
       "      <td>0.999312</td>\n",
       "      <td>0.718883</td>\n",
       "      <td>0.468425</td>\n",
       "      <td>-3.638979</td>\n",
       "      <td>0.998870</td>\n",
       "      <td>0.768205</td>\n",
       "      <td>0.472419</td>\n",
       "      <td>...</td>\n",
       "      <td>-0.033771</td>\n",
       "      <td>0.0</td>\n",
       "      <td>0.812469</td>\n",
       "      <td>0.436285</td>\n",
       "      <td>0.013753</td>\n",
       "      <td>0.0</td>\n",
       "      <td>0.824077</td>\n",
       "      <td>0.419843</td>\n",
       "      <td>0.014409</td>\n",
       "      <td>0.0</td>\n",
       "    </tr>\n",
       "    <tr>\n",
       "      <th>439</th>\n",
       "      <td>0.650409</td>\n",
       "      <td>0.635085</td>\n",
       "      <td>-3.548757</td>\n",
       "      <td>0.999297</td>\n",
       "      <td>0.723140</td>\n",
       "      <td>0.468212</td>\n",
       "      <td>-3.424044</td>\n",
       "      <td>0.998838</td>\n",
       "      <td>0.772451</td>\n",
       "      <td>0.472435</td>\n",
       "      <td>...</td>\n",
       "      <td>-0.033987</td>\n",
       "      <td>0.0</td>\n",
       "      <td>0.816013</td>\n",
       "      <td>0.435385</td>\n",
       "      <td>0.015485</td>\n",
       "      <td>0.0</td>\n",
       "      <td>0.827665</td>\n",
       "      <td>0.419692</td>\n",
       "      <td>0.016225</td>\n",
       "      <td>0.0</td>\n",
       "    </tr>\n",
       "    <tr>\n",
       "      <th>440</th>\n",
       "      <td>0.650380</td>\n",
       "      <td>0.634378</td>\n",
       "      <td>-3.236716</td>\n",
       "      <td>0.999306</td>\n",
       "      <td>0.724478</td>\n",
       "      <td>0.469222</td>\n",
       "      <td>-3.136532</td>\n",
       "      <td>0.998862</td>\n",
       "      <td>0.774031</td>\n",
       "      <td>0.474874</td>\n",
       "      <td>...</td>\n",
       "      <td>-0.032669</td>\n",
       "      <td>0.0</td>\n",
       "      <td>0.815871</td>\n",
       "      <td>0.447862</td>\n",
       "      <td>0.016436</td>\n",
       "      <td>0.0</td>\n",
       "      <td>0.827278</td>\n",
       "      <td>0.432074</td>\n",
       "      <td>0.017254</td>\n",
       "      <td>0.0</td>\n",
       "    </tr>\n",
       "  </tbody>\n",
       "</table>\n",
       "<p>441 rows × 2004 columns</p>\n",
       "</div>"
      ],
      "text/plain": [
       "           x1        y1        z1        v1        x2        y2        z2  \\\n",
       "0    0.611963  0.568824 -2.343653  0.999881  0.668213  0.449927 -2.276455   \n",
       "1    0.617652  0.566049 -2.323081  0.999881  0.669807  0.449244 -2.256609   \n",
       "2    0.618621  0.565547 -2.250670  0.999878  0.670322  0.449418 -2.187487   \n",
       "3    0.618629  0.565881 -2.115307  0.999877  0.670325  0.451597 -2.054101   \n",
       "4    0.618577  0.565814 -2.319589  0.999878  0.670324  0.451619 -2.255415   \n",
       "..        ...       ...       ...       ...       ...       ...       ...   \n",
       "436  0.645554  0.638725 -3.187438  0.999315  0.716420  0.467873 -3.090263   \n",
       "437  0.646343  0.638073 -3.194052  0.999305  0.717623  0.468369 -3.091898   \n",
       "438  0.647030  0.637984 -3.747355  0.999312  0.718883  0.468425 -3.638979   \n",
       "439  0.650409  0.635085 -3.548757  0.999297  0.723140  0.468212 -3.424044   \n",
       "440  0.650380  0.634378 -3.236716  0.999306  0.724478  0.469222 -3.136532   \n",
       "\n",
       "           v2        x3        y3  ...      z499  v499      x500      y500  \\\n",
       "0    0.999847  0.702016  0.451942  ... -0.039163   0.0  0.739650  0.421451   \n",
       "1    0.999850  0.703753  0.450986  ... -0.039959   0.0  0.741532  0.424179   \n",
       "2    0.999850  0.704503  0.451050  ... -0.042809   0.0  0.741137  0.438544   \n",
       "3    0.999853  0.704558  0.452957  ... -0.040105   0.0  0.740903  0.440421   \n",
       "4    0.999854  0.704578  0.452987  ... -0.040787   0.0  0.740981  0.427238   \n",
       "..        ...       ...       ...  ...       ...   ...       ...       ...   \n",
       "436  0.998886  0.765199  0.471970  ... -0.032857   0.0  0.808199  0.434687   \n",
       "437  0.998869  0.766458  0.472229  ... -0.033895   0.0  0.809931  0.437720   \n",
       "438  0.998870  0.768205  0.472419  ... -0.033771   0.0  0.812469  0.436285   \n",
       "439  0.998838  0.772451  0.472435  ... -0.033987   0.0  0.816013  0.435385   \n",
       "440  0.998862  0.774031  0.474874  ... -0.032669   0.0  0.815871  0.447862   \n",
       "\n",
       "         z500  v500      x501      y501      z501  v501  \n",
       "0    0.002701   0.0  0.748513  0.410192  0.003465   0.0  \n",
       "1    0.002447   0.0  0.750179  0.414630  0.003384   0.0  \n",
       "2   -0.001054   0.0  0.749507  0.429632 -0.000409   0.0  \n",
       "3    0.002107   0.0  0.749409  0.431513  0.002940   0.0  \n",
       "4    0.001240   0.0  0.749257  0.418693  0.001937   0.0  \n",
       "..        ...   ...       ...       ...       ...   ...  \n",
       "436  0.015134   0.0  0.819811  0.418993  0.015736   0.0  \n",
       "437  0.014025   0.0  0.821476  0.421746  0.014671   0.0  \n",
       "438  0.013753   0.0  0.824077  0.419843  0.014409   0.0  \n",
       "439  0.015485   0.0  0.827665  0.419692  0.016225   0.0  \n",
       "440  0.016436   0.0  0.827278  0.432074  0.017254   0.0  \n",
       "\n",
       "[441 rows x 2004 columns]"
      ]
     },
     "execution_count": 6,
     "metadata": {},
     "output_type": "execute_result"
    }
   ],
   "source": [
    "X"
   ]
  },
  {
   "cell_type": "code",
   "execution_count": 7,
   "id": "f9a1bb0a",
   "metadata": {},
   "outputs": [],
   "source": [
    "X_train, X_test, y_train, y_test = train_test_split(X, y, test_size=0.1, random_state=1234)"
   ]
  },
  {
   "cell_type": "code",
   "execution_count": 9,
   "id": "3ec8afdf",
   "metadata": {},
   "outputs": [],
   "source": [
    "logisticRegr = LogisticRegression()"
   ]
  },
  {
   "cell_type": "code",
   "execution_count": 10,
   "id": "b93b514a",
   "metadata": {},
   "outputs": [
    {
     "name": "stderr",
     "output_type": "stream",
     "text": [
      "/opt/homebrew/Caskroom/miniforge/base/envs/mlp/lib/python3.8/site-packages/sklearn/linear_model/_logistic.py:814: ConvergenceWarning: lbfgs failed to converge (status=1):\n",
      "STOP: TOTAL NO. of ITERATIONS REACHED LIMIT.\n",
      "\n",
      "Increase the number of iterations (max_iter) or scale the data as shown in:\n",
      "    https://scikit-learn.org/stable/modules/preprocessing.html\n",
      "Please also refer to the documentation for alternative solver options:\n",
      "    https://scikit-learn.org/stable/modules/linear_model.html#logistic-regression\n",
      "  n_iter_i = _check_optimize_result(\n"
     ]
    },
    {
     "data": {
      "text/plain": [
       "LogisticRegression()"
      ]
     },
     "execution_count": 10,
     "metadata": {},
     "output_type": "execute_result"
    }
   ],
   "source": [
    "logisticRegr.fit(X_train, y_train)"
   ]
  },
  {
   "cell_type": "code",
   "execution_count": 11,
   "id": "d014f32d",
   "metadata": {},
   "outputs": [
    {
     "name": "stdout",
     "output_type": "stream",
     "text": [
      "1.0\n"
     ]
    }
   ],
   "source": [
    "score = logisticRegr.score(X_test, y_test)\n",
    "print(score)"
   ]
  },
  {
   "cell_type": "code",
   "execution_count": 12,
   "id": "81522090",
   "metadata": {},
   "outputs": [],
   "source": [
    "y_pred = logisticRegr.predict(X_test)"
   ]
  },
  {
   "cell_type": "code",
   "execution_count": 13,
   "id": "c256d424",
   "metadata": {},
   "outputs": [],
   "source": [
    "from sklearn.metrics import precision_score"
   ]
  },
  {
   "cell_type": "code",
   "execution_count": 14,
   "id": "ea1e95ba",
   "metadata": {},
   "outputs": [
    {
     "data": {
      "text/plain": [
       "1.0"
      ]
     },
     "execution_count": 14,
     "metadata": {},
     "output_type": "execute_result"
    }
   ],
   "source": [
    "precision_score(y_test, y_pred, pos_label='Happy')"
   ]
  },
  {
   "cell_type": "code",
   "execution_count": 15,
   "id": "cd89b75a",
   "metadata": {},
   "outputs": [],
   "source": [
    "from sklearn.metrics import recall_score"
   ]
  },
  {
   "cell_type": "code",
   "execution_count": 16,
   "id": "5039e158",
   "metadata": {},
   "outputs": [
    {
     "data": {
      "text/plain": [
       "1.0"
      ]
     },
     "execution_count": 16,
     "metadata": {},
     "output_type": "execute_result"
    }
   ],
   "source": [
    "recall_score(y_test, y_pred, pos_label='Happy')"
   ]
  },
  {
   "cell_type": "code",
   "execution_count": 17,
   "id": "97efc080",
   "metadata": {},
   "outputs": [],
   "source": [
    "ridge_class =  RidgeClassifier()"
   ]
  },
  {
   "cell_type": "code",
   "execution_count": 18,
   "id": "31f14bc5",
   "metadata": {},
   "outputs": [
    {
     "data": {
      "text/plain": [
       "RidgeClassifier()"
      ]
     },
     "execution_count": 18,
     "metadata": {},
     "output_type": "execute_result"
    }
   ],
   "source": [
    "ridge_class.fit(X_train, y_train)"
   ]
  },
  {
   "cell_type": "code",
   "execution_count": 19,
   "id": "651cdd47",
   "metadata": {},
   "outputs": [
    {
     "name": "stdout",
     "output_type": "stream",
     "text": [
      "1.0\n"
     ]
    }
   ],
   "source": [
    "score_ridge = ridge_class.score(X_test, y_test)\n",
    "print(score_ridge)"
   ]
  },
  {
   "cell_type": "code",
   "execution_count": 20,
   "id": "6dd4b72e",
   "metadata": {},
   "outputs": [],
   "source": [
    "y_pred = ridge_class.predict(X_test)"
   ]
  },
  {
   "cell_type": "code",
   "execution_count": 21,
   "id": "079545bc",
   "metadata": {},
   "outputs": [
    {
     "data": {
      "text/plain": [
       "1.0"
      ]
     },
     "execution_count": 21,
     "metadata": {},
     "output_type": "execute_result"
    }
   ],
   "source": [
    "precision_score(y_test, y_pred, pos_label='Happy')"
   ]
  },
  {
   "cell_type": "code",
   "execution_count": 22,
   "id": "e70e0076",
   "metadata": {},
   "outputs": [
    {
     "data": {
      "text/plain": [
       "1.0"
      ]
     },
     "execution_count": 22,
     "metadata": {},
     "output_type": "execute_result"
    }
   ],
   "source": [
    "recall_score(y_test, y_pred, pos_label='Happy')"
   ]
  },
  {
   "cell_type": "code",
   "execution_count": 23,
   "id": "bd77b2fe",
   "metadata": {},
   "outputs": [],
   "source": [
    "randomf= RandomForestClassifier()"
   ]
  },
  {
   "cell_type": "code",
   "execution_count": 24,
   "id": "5628e344",
   "metadata": {},
   "outputs": [
    {
     "data": {
      "text/plain": [
       "RandomForestClassifier()"
      ]
     },
     "execution_count": 24,
     "metadata": {},
     "output_type": "execute_result"
    }
   ],
   "source": [
    "randomf.fit(X_train, y_train)"
   ]
  },
  {
   "cell_type": "code",
   "execution_count": 39,
   "id": "5e44e355",
   "metadata": {},
   "outputs": [
    {
     "name": "stdout",
     "output_type": "stream",
     "text": [
      "1.0\n"
     ]
    }
   ],
   "source": [
    "score_randomf = randomf.score(X_test, y_test)\n",
    "print(score_randomf)"
   ]
  },
  {
   "cell_type": "code",
   "execution_count": 25,
   "id": "a06bbc1d",
   "metadata": {},
   "outputs": [],
   "source": [
    "y_pred = randomf.predict(X_test)"
   ]
  },
  {
   "cell_type": "code",
   "execution_count": 26,
   "id": "19e98b7d",
   "metadata": {},
   "outputs": [
    {
     "data": {
      "text/plain": [
       "1.0"
      ]
     },
     "execution_count": 26,
     "metadata": {},
     "output_type": "execute_result"
    }
   ],
   "source": [
    "precision_score(y_test, y_pred, pos_label='Happy')"
   ]
  },
  {
   "cell_type": "code",
   "execution_count": 27,
   "id": "210a3f79",
   "metadata": {},
   "outputs": [
    {
     "data": {
      "text/plain": [
       "1.0"
      ]
     },
     "execution_count": 27,
     "metadata": {},
     "output_type": "execute_result"
    }
   ],
   "source": [
    "recall_score(y_test, y_pred, pos_label='Happy')"
   ]
  },
  {
   "cell_type": "code",
   "execution_count": 28,
   "id": "d57f1b0d",
   "metadata": {},
   "outputs": [],
   "source": [
    "gb = GradientBoostingClassifier()"
   ]
  },
  {
   "cell_type": "code",
   "execution_count": 29,
   "id": "64d32d15",
   "metadata": {},
   "outputs": [
    {
     "data": {
      "text/plain": [
       "GradientBoostingClassifier()"
      ]
     },
     "execution_count": 29,
     "metadata": {},
     "output_type": "execute_result"
    }
   ],
   "source": [
    "gb.fit(X_train, y_train)"
   ]
  },
  {
   "cell_type": "code",
   "execution_count": 30,
   "id": "143548ba",
   "metadata": {},
   "outputs": [
    {
     "name": "stdout",
     "output_type": "stream",
     "text": [
      "1.0\n"
     ]
    }
   ],
   "source": [
    "score_gb = gb.score(X_test, y_test)\n",
    "print(score_gb)"
   ]
  },
  {
   "cell_type": "code",
   "execution_count": 31,
   "id": "edcd1fee",
   "metadata": {},
   "outputs": [],
   "source": [
    "y_pred = gb.predict(X_test)"
   ]
  },
  {
   "cell_type": "code",
   "execution_count": 32,
   "id": "7a01e696",
   "metadata": {},
   "outputs": [
    {
     "data": {
      "text/plain": [
       "1.0"
      ]
     },
     "execution_count": 32,
     "metadata": {},
     "output_type": "execute_result"
    }
   ],
   "source": [
    "precision_score(y_test, y_pred, pos_label='Happy')"
   ]
  },
  {
   "cell_type": "code",
   "execution_count": 33,
   "id": "f812cd36",
   "metadata": {},
   "outputs": [
    {
     "data": {
      "text/plain": [
       "1.0"
      ]
     },
     "execution_count": 33,
     "metadata": {},
     "output_type": "execute_result"
    }
   ],
   "source": [
    "recall_score(y_test, y_pred, pos_label='Happy')"
   ]
  }
 ],
 "metadata": {
  "kernelspec": {
   "display_name": "Python 3 (ipykernel)",
   "language": "python",
   "name": "python3"
  },
  "language_info": {
   "codemirror_mode": {
    "name": "ipython",
    "version": 3
   },
   "file_extension": ".py",
   "mimetype": "text/x-python",
   "name": "python",
   "nbconvert_exporter": "python",
   "pygments_lexer": "ipython3",
   "version": "3.8.12"
  }
 },
 "nbformat": 4,
 "nbformat_minor": 5
}
